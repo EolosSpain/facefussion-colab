{
	"cells":
	[
		{
			"cell_type": "markdown",
			"metadata":
			{
				"id": "hgVreYca3LcQ"
			},
			"source":
			[
				"FaceFusion 2.0.0"
			]
		},
		{
			"cell_type": "markdown",
			"metadata":
			{
				"id": "28qKtK7F3bzl"
			},
			"source":
			[
				"Install"
			]
		},
		{
			"cell_type": "code",
			"execution_count": null,
			"metadata":
			{
				"id": "ZlrnUA3i3gMB"
			},
			"outputs": [],
			"source":
			[
				"!git clone https://tinyurl.com/2azrtvwx facefusion --branch 2.0.0 --single-branch\n",
				"%cd /content/facefusion\n",
				"!pip install basicsr==1.4.2\n",
				"!pip install filetype==1.2.0\n",
				"!pip install gradio==3.50.2\n",
				"!pip install numpy==1.26.2\n",
				"!pip install onnx==1.15.0\n",
				"!pip install coloredlogs==15.0.1\n",
				"!pip install ort-nightly-gpu==1.17.0.dev20231215001 --pre --index-url https://aiinfra.pkgs.visualstudio.com/PublicPackages/_packaging/ORT-Nightly/pypi/simple\n",
				"!pip install opencv-python==4.8.1.78\n",
				"!pip install psutil==5.9.6\n",
				"!pip install realesrgan==0.3.0\n",
				"!pip install torch torchvision torchaudio --pre --index-url https://download.pytorch.org/whl/nightly/cu118\n",
				"!pip install tqdm==4.66.1"
			]
		},
		{
			"cell_type": "markdown",
			"metadata":
			{
				"id": "J6HT5NpVcZOC"
			},
			"source":
			[
				"Setup"
			]
		},
		{
			"cell_type": "code",
			"execution_count": null,
			"metadata":
			{
				"id": "YVHiNI-bb6IB"
			},
			"outputs": [],
			"source":
			[
				"!ssh-keygen -q -t rsa -N '' -f ~/.ssh/id_rsa <<<y\n",
				"!ssh-keyscan -t rsa remote.moe >> ~/.ssh/known_hosts"
			]
		},
		{
			"cell_type": "markdown",
			"metadata":
			{
				"id": "vsfWtUCSGrrl"
			},
			"source":
			[
				"Run"
			]
		},
		{
			"cell_type": "code",
			"execution_count": null,
			"metadata":
			{
				"id": "YVHiNI-bb6IA"
			},
			"outputs": [],
			"source":
			[
				"%cd /content/facefusion\n",
				"!python run.py --execution-providers cuda & ssh -R 80:localhost:7860 remote.moe"
			]
		}
	],
	"metadata":
	{
		"accelerator": "GPU",
		"colab":
		{
			"provenance":
			[
				{
					"file_id": "17FwlS26zvLhXtiEGvdC7EiC2lUToBJ5v",
					"timestamp": 1694089316266
				}
			]
		},
		"kernelspec":
		{
			"display_name": "Python",
			"name": "python3"
		},
		"language_info":
		{
			"name": "python"
		}
	},
	"nbformat": 4,
	"nbformat_minor": 0
}
